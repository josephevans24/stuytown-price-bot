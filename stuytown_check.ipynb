{
 "cells": [
  {
   "cell_type": "code",
   "execution_count": 2,
   "id": "f8ba61a1-191e-4d1b-a7a6-8a953fb7d7f3",
   "metadata": {},
   "outputs": [
    {
     "ename": "ModuleNotFoundError",
     "evalue": "No module named 'twilio'",
     "output_type": "error",
     "traceback": [
      "\u001b[31m---------------------------------------------------------------------------\u001b[39m",
      "\u001b[31mModuleNotFoundError\u001b[39m                       Traceback (most recent call last)",
      "\u001b[36mCell\u001b[39m\u001b[36m \u001b[39m\u001b[32mIn[2]\u001b[39m\u001b[32m, line 3\u001b[39m\n\u001b[32m      1\u001b[39m \u001b[38;5;66;03m#!/usr/bin/env python3\u001b[39;00m\n\u001b[32m      2\u001b[39m \u001b[38;5;28;01mimport\u001b[39;00m\u001b[38;5;250m \u001b[39m\u001b[34;01mos\u001b[39;00m,\u001b[38;5;250m \u001b[39m\u001b[34;01mrequests\u001b[39;00m\n\u001b[32m----> \u001b[39m\u001b[32m3\u001b[39m \u001b[38;5;28;01mfrom\u001b[39;00m\u001b[38;5;250m \u001b[39m\u001b[34;01mtwilio\u001b[39;00m\u001b[34;01m.\u001b[39;00m\u001b[34;01mrest\u001b[39;00m\u001b[38;5;250m \u001b[39m\u001b[38;5;28;01mimport\u001b[39;00m Client\n\u001b[32m      4\u001b[39m \u001b[38;5;28;01mfrom\u001b[39;00m\u001b[38;5;250m \u001b[39m\u001b[34;01mdatetime\u001b[39;00m\u001b[38;5;250m \u001b[39m\u001b[38;5;28;01mimport\u001b[39;00m datetime, timezone\n\u001b[32m      6\u001b[39m PRICE_CAP = \u001b[38;5;28mfloat\u001b[39m(os.getenv(\u001b[33m\"\u001b[39m\u001b[33mPRICE_CAP\u001b[39m\u001b[33m\"\u001b[39m, \u001b[32m6500\u001b[39m))\n",
      "\u001b[31mModuleNotFoundError\u001b[39m: No module named 'twilio'"
     ]
    }
   ],
   "source": [
    "#!/usr/bin/env python3\n",
    "import os, requests\n",
    "from twilio.rest import Client\n",
    "from datetime import datetime, timezone\n",
    "\n",
    "PRICE_CAP = float(os.getenv(\"PRICE_CAP\", 6500))\n",
    "\n",
    "URL = (\n",
    "    \"https://pd-di.beamliving.com/api/units\"\n",
    "    \"?Order=low-price&Flex=false&Bedrooms=2\"\n",
    "    \"&page=0&itemsOnPage=50\"\n",
    "    \"&PropertyName=Stuyvesant+Town_Peter+Cooper+Village\"\n",
    ")\n",
    "\n",
    "resp = requests.get(URL, timeout=20)\n",
    "resp.raise_for_status()\n",
    "units = resp.json()[\"unitModels\"]   # list of dicts\n",
    "\n",
    "matches = [\n",
    "    u for u in units\n",
    "    if u[\"bedrooms\"] == 2 and u[\"price\"] <= PRICE_CAP\n",
    "]\n",
    "\n",
    "if not matches:\n",
    "    print(f\"{datetime.now(timezone.utc)} – no matches\")\n",
    "    quit(0)\n",
    "\n",
    "lines = [\n",
    "    f'{u[\"building\"][\"buildingName\"]} {u[\"unitNumber\"]} – ${u[\"price\"]:,}'\n",
    "    for u in matches\n",
    "]\n",
    "\n",
    "body = f\"StuyTown alert (≤ ${int(PRICE_CAP):,}):\\n\" + \"\\n\".join(lines)\n",
    "\n",
    "client = Client(os.getenv(\"TWILIO_SID\"), os.getenv(\"TWILIO_TOKEN\"))\n",
    "client.messages.create(\n",
    "    body=body,\n",
    "    from_=os.getenv(\"TWILIO_FROM\"),\n",
    "    to=os.getenv(\"TWILIO_TO\")\n",
    ")\n",
    "\n",
    "print(\"SMS sent:\\n\", body)\n"
   ]
  },
  {
   "cell_type": "code",
   "execution_count": null,
   "id": "b7d172ef-e023-4e19-bcff-d2c765d661bd",
   "metadata": {},
   "outputs": [],
   "source": []
  }
 ],
 "metadata": {
  "kernelspec": {
   "display_name": "Python 3 (ipykernel)",
   "language": "python",
   "name": "python3"
  },
  "language_info": {
   "codemirror_mode": {
    "name": "ipython",
    "version": 3
   },
   "file_extension": ".py",
   "mimetype": "text/x-python",
   "name": "python",
   "nbconvert_exporter": "python",
   "pygments_lexer": "ipython3",
   "version": "3.13.5"
  }
 },
 "nbformat": 4,
 "nbformat_minor": 5
}
