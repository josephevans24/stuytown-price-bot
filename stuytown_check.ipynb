{
 "cells": [
  {
   "cell_type": "code",
   "execution_count": null,
   "id": "f8ba61a1-191e-4d1b-a7a6-8a953fb7d7f3",
   "metadata": {},
   "outputs": [],
   "source": [
    "#!/usr/bin/env python3\n",
    "import os, json, requests\n",
    "from datetime import datetime, timezone\n",
    "from twilio.rest import Client\n",
    "\n",
    "PRICE_CAP = float(os.getenv(\"PRICE_CAP\", 6500))\n",
    "\n",
    "URL = (\"https://www.stuytown.com/api/availability\"\n",
    "       \"?beds=2&flex=false&sort=low-price\")  # observed XHR endpoint\n",
    "\n",
    "r = requests.get(URL, timeout=15)\n",
    "r.raise_for_status()\n",
    "units = [u for u in r.json()[\"units\"]\n",
    "         if u[\"bedrooms\"] == 2 and u[\"marketRent\"] <= PRICE_CAP]\n",
    "\n",
    "if not units:\n",
    "    print(f\"{datetime.now(timezone.utc)} – no matches\")\n",
    "    quit(0)\n",
    "\n",
    "lines = [f\"{u['buildingName']} {u['unitName']} – ${u['marketRent']:,}\"\n",
    "         for u in units]\n",
    "body = \"StuyTown alert (≤ ${:,}):\\n{}\".format(int(PRICE_CAP),\n",
    "                                              \"\\n\".join(lines))\n",
    "\n",
    "client = Client(os.getenv(\"TWILIO_SID\"), os.getenv(\"TWILIO_TOKEN\"))\n",
    "client.messages.create(\n",
    "    body=body,\n",
    "    from_=os.getenv(\"TWILIO_FROM\"),\n",
    "    to=os.getenv(\"TWILIO_TO\")\n",
    ")\n",
    "print(f\"Sent SMS:\\n{body}\")\n"
   ]
  }
 ],
 "metadata": {
  "kernelspec": {
   "display_name": "Python 3 (ipykernel)",
   "language": "python",
   "name": "python3"
  },
  "language_info": {
   "codemirror_mode": {
    "name": "ipython",
    "version": 3
   },
   "file_extension": ".py",
   "mimetype": "text/x-python",
   "name": "python",
   "nbconvert_exporter": "python",
   "pygments_lexer": "ipython3",
   "version": "3.13.5"
  }
 },
 "nbformat": 4,
 "nbformat_minor": 5
}
